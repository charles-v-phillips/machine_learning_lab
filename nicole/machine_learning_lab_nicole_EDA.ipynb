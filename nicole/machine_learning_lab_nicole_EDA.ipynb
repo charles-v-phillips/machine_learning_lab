{
 "cells": [
  {
   "cell_type": "code",
   "execution_count": 2,
   "id": "32597b62",
   "metadata": {},
   "outputs": [],
   "source": [
    "import pandas as pd\n",
    "import numpy as np\n",
    "import matplotlib\n",
    "import matplotlib.pyplot as plt\n",
    "import seaborn as sns"
   ]
  },
  {
   "cell_type": "code",
   "execution_count": 10,
   "id": "e12cce4b",
   "metadata": {},
   "outputs": [
    {
     "data": {
      "text/plain": [
       "'3.4.3'"
      ]
     },
     "execution_count": 10,
     "metadata": {},
     "output_type": "execute_result"
    }
   ],
   "source": [
    "import matplotlib\n",
    "matplotlib.__version__"
   ]
  },
  {
   "cell_type": "code",
   "execution_count": 62,
   "id": "3b9d1fdf",
   "metadata": {},
   "outputs": [],
   "source": [
    "df_returns = pd.read_csv('../nicole/data/Returns.csv')\n",
    "df_orders = pd.read_csv('../nicole/data/Orders.csv')"
   ]
  },
  {
   "cell_type": "markdown",
   "id": "04a7c983",
   "metadata": {},
   "source": [
    "#### Problem 1: Dataset Import & Cleaning\n",
    "Check **\"Profit\"** and **\"Sales\"** in the dataset, convert these two columns to numeric type "
   ]
  },
  {
   "cell_type": "code",
   "execution_count": 4,
   "id": "0d67fd4e",
   "metadata": {},
   "outputs": [],
   "source": [
    "#df_orders.info()"
   ]
  },
  {
   "cell_type": "code",
   "execution_count": 5,
   "id": "f67e83b0",
   "metadata": {},
   "outputs": [],
   "source": [
    "list_of_strings = df_orders['Sales'] \n",
    "list_of_strings = [s.replace(\"$\", \"\") for s in list_of_strings]\n",
    "list_of_strings = [s.replace(\",\", \"\") for s in list_of_strings]\n",
    "df_orders['Sales'] = [float(i) for i in list_of_strings]\n",
    "\n",
    "list_of_strings_P = df_orders['Profit'] \n",
    "list_of_strings_P = [s.replace(\"$\", \"\") for s in list_of_strings]\n",
    "list_of_strings_P = [s.replace(\",\", \"\") for s in list_of_strings]\n",
    "df_orders['Profit'] = [float(i) for i in list_of_strings]"
   ]
  },
  {
   "cell_type": "code",
   "execution_count": 6,
   "id": "6df76d18",
   "metadata": {},
   "outputs": [],
   "source": [
    "#df_orders['Sales']\n",
    "#df_orders['Profit']"
   ]
  },
  {
   "cell_type": "markdown",
   "id": "ba58b511",
   "metadata": {},
   "source": [
    "#### Problem 2: Inventory Management\n",
    "- Retailers that depend on seasonal shoppers have a particularly challenging job when it comes to inventory management. Your manager is making plans for next year's inventory.\n",
    "- He wants you to answer the following questions:\n",
    "    1. Is there any seasonal trend of inventory in the company?\n",
    "    2. Is the seasonal trend the same for different categories?\n",
    "\n",
    "- ***Hint:*** For each order, it has an attribute called `Quantity` that indicates the number of product in the order. If an order contains more than one product, there will be multiple observations of the same order."
   ]
  },
  {
   "cell_type": "code",
   "execution_count": 7,
   "id": "407f6c1d",
   "metadata": {},
   "outputs": [],
   "source": [
    "#extracting month as separate column\n",
    "df_orders['Month'] = pd.DatetimeIndex(df_orders['Order.Date']).month"
   ]
  },
  {
   "cell_type": "code",
   "execution_count": 48,
   "id": "699a6549",
   "metadata": {},
   "outputs": [
    {
     "data": {
      "text/html": [
       "<div>\n",
       "<style scoped>\n",
       "    .dataframe tbody tr th:only-of-type {\n",
       "        vertical-align: middle;\n",
       "    }\n",
       "\n",
       "    .dataframe tbody tr th {\n",
       "        vertical-align: top;\n",
       "    }\n",
       "\n",
       "    .dataframe thead th {\n",
       "        text-align: right;\n",
       "    }\n",
       "</style>\n",
       "<table border=\"1\" class=\"dataframe\">\n",
       "  <thead>\n",
       "    <tr style=\"text-align: right;\">\n",
       "      <th>Category</th>\n",
       "      <th>Month</th>\n",
       "      <th>Furniture</th>\n",
       "      <th>Office Supplies</th>\n",
       "      <th>Technology</th>\n",
       "    </tr>\n",
       "  </thead>\n",
       "  <tbody>\n",
       "    <tr>\n",
       "      <th>0</th>\n",
       "      <td>1</td>\n",
       "      <td>1750</td>\n",
       "      <td>5480</td>\n",
       "      <td>1642</td>\n",
       "    </tr>\n",
       "    <tr>\n",
       "      <th>1</th>\n",
       "      <td>2</td>\n",
       "      <td>1494</td>\n",
       "      <td>4340</td>\n",
       "      <td>1595</td>\n",
       "    </tr>\n",
       "    <tr>\n",
       "      <th>2</th>\n",
       "      <td>3</td>\n",
       "      <td>2098</td>\n",
       "      <td>6283</td>\n",
       "      <td>2009</td>\n",
       "    </tr>\n",
       "    <tr>\n",
       "      <th>3</th>\n",
       "      <td>4</td>\n",
       "      <td>2005</td>\n",
       "      <td>6391</td>\n",
       "      <td>2070</td>\n",
       "    </tr>\n",
       "    <tr>\n",
       "      <th>4</th>\n",
       "      <td>5</td>\n",
       "      <td>2484</td>\n",
       "      <td>8170</td>\n",
       "      <td>2542</td>\n",
       "    </tr>\n",
       "  </tbody>\n",
       "</table>\n",
       "</div>"
      ],
      "text/plain": [
       "Category  Month  Furniture  Office Supplies  Technology\n",
       "0             1       1750             5480        1642\n",
       "1             2       1494             4340        1595\n",
       "2             3       2098             6283        2009\n",
       "3             4       2005             6391        2070\n",
       "4             5       2484             8170        2542"
      ]
     },
     "execution_count": 48,
     "metadata": {},
     "output_type": "execute_result"
    }
   ],
   "source": [
    "#grouping the data & turning it into new df\n",
    "agg_month = df_orders.groupby(['Month', 'Category'])['Quantity'].sum().unstack()\n",
    "df_agg_month = pd.DataFrame(agg_month)\n",
    "df_agg_month.head()\n",
    "\n",
    "#resets the index \n",
    "df_agg_month.reset_index(inplace = True)\n",
    "df_agg_month.head()\n",
    "\n",
    "#df_agg_month.column = ['Month', 'Furniture', 'Office Supplies', 'Technology’]"
   ]
  },
  {
   "cell_type": "code",
   "execution_count": 47,
   "id": "42e9dfe8",
   "metadata": {},
   "outputs": [
    {
     "data": {
      "text/html": [
       "<div>\n",
       "<style scoped>\n",
       "    .dataframe tbody tr th:only-of-type {\n",
       "        vertical-align: middle;\n",
       "    }\n",
       "\n",
       "    .dataframe tbody tr th {\n",
       "        vertical-align: top;\n",
       "    }\n",
       "\n",
       "    .dataframe thead th {\n",
       "        text-align: right;\n",
       "    }\n",
       "</style>\n",
       "<table border=\"1\" class=\"dataframe\">\n",
       "  <thead>\n",
       "    <tr style=\"text-align: right;\">\n",
       "      <th>Month</th>\n",
       "      <th>Category</th>\n",
       "      <th>1</th>\n",
       "      <th>2</th>\n",
       "      <th>3</th>\n",
       "      <th>4</th>\n",
       "      <th>5</th>\n",
       "      <th>6</th>\n",
       "      <th>7</th>\n",
       "      <th>8</th>\n",
       "      <th>9</th>\n",
       "      <th>10</th>\n",
       "      <th>11</th>\n",
       "      <th>12</th>\n",
       "    </tr>\n",
       "  </thead>\n",
       "  <tbody>\n",
       "    <tr>\n",
       "      <th>0</th>\n",
       "      <td>Furniture</td>\n",
       "      <td>1750</td>\n",
       "      <td>1494</td>\n",
       "      <td>2098</td>\n",
       "      <td>2005</td>\n",
       "      <td>2484</td>\n",
       "      <td>3434</td>\n",
       "      <td>2157</td>\n",
       "      <td>3059</td>\n",
       "      <td>4111</td>\n",
       "      <td>3323</td>\n",
       "      <td>4471</td>\n",
       "      <td>4506</td>\n",
       "    </tr>\n",
       "    <tr>\n",
       "      <th>1</th>\n",
       "      <td>Office Supplies</td>\n",
       "      <td>5480</td>\n",
       "      <td>4340</td>\n",
       "      <td>6283</td>\n",
       "      <td>6391</td>\n",
       "      <td>8170</td>\n",
       "      <td>11012</td>\n",
       "      <td>6618</td>\n",
       "      <td>11019</td>\n",
       "      <td>12572</td>\n",
       "      <td>9585</td>\n",
       "      <td>13529</td>\n",
       "      <td>13245</td>\n",
       "    </tr>\n",
       "    <tr>\n",
       "      <th>2</th>\n",
       "      <td>Technology</td>\n",
       "      <td>1642</td>\n",
       "      <td>1595</td>\n",
       "      <td>2009</td>\n",
       "      <td>2070</td>\n",
       "      <td>2542</td>\n",
       "      <td>3563</td>\n",
       "      <td>2271</td>\n",
       "      <td>3518</td>\n",
       "      <td>3796</td>\n",
       "      <td>3395</td>\n",
       "      <td>4379</td>\n",
       "      <td>4396</td>\n",
       "    </tr>\n",
       "  </tbody>\n",
       "</table>\n",
       "</div>"
      ],
      "text/plain": [
       "Month         Category     1     2     3     4     5      6     7      8  \\\n",
       "0            Furniture  1750  1494  2098  2005  2484   3434  2157   3059   \n",
       "1      Office Supplies  5480  4340  6283  6391  8170  11012  6618  11019   \n",
       "2           Technology  1642  1595  2009  2070  2542   3563  2271   3518   \n",
       "\n",
       "Month      9    10     11     12  \n",
       "0       4111  3323   4471   4506  \n",
       "1      12572  9585  13529  13245  \n",
       "2       3796  3395   4379   4396  "
      ]
     },
     "execution_count": 47,
     "metadata": {},
     "output_type": "execute_result"
    }
   ],
   "source": [
    "#grouping the data & turning it into new df\n",
    "agg_category = df_orders.groupby(['Category', 'Month'])['Quantity'].sum().unstack()\n",
    "df_agg_category = pd.DataFrame(agg_category)\n",
    "\n",
    "df_agg_category.reset_index(inplace = True)\n",
    "df_agg_category.head()"
   ]
  },
  {
   "cell_type": "code",
   "execution_count": 59,
   "id": "990fb0b5",
   "metadata": {},
   "outputs": [
    {
     "data": {
      "text/html": [
       "<div>\n",
       "<style scoped>\n",
       "    .dataframe tbody tr th:only-of-type {\n",
       "        vertical-align: middle;\n",
       "    }\n",
       "\n",
       "    .dataframe tbody tr th {\n",
       "        vertical-align: top;\n",
       "    }\n",
       "\n",
       "    .dataframe thead th {\n",
       "        text-align: right;\n",
       "    }\n",
       "</style>\n",
       "<table border=\"1\" class=\"dataframe\">\n",
       "  <thead>\n",
       "    <tr style=\"text-align: right;\">\n",
       "      <th></th>\n",
       "      <th>Month</th>\n",
       "      <th>Category</th>\n",
       "      <th>sum</th>\n",
       "      <th>count</th>\n",
       "    </tr>\n",
       "  </thead>\n",
       "  <tbody>\n",
       "    <tr>\n",
       "      <th>0</th>\n",
       "      <td>1</td>\n",
       "      <td>Furniture</td>\n",
       "      <td>1750</td>\n",
       "      <td>491</td>\n",
       "    </tr>\n",
       "    <tr>\n",
       "      <th>1</th>\n",
       "      <td>1</td>\n",
       "      <td>Office Supplies</td>\n",
       "      <td>5480</td>\n",
       "      <td>1616</td>\n",
       "    </tr>\n",
       "    <tr>\n",
       "      <th>2</th>\n",
       "      <td>1</td>\n",
       "      <td>Technology</td>\n",
       "      <td>1642</td>\n",
       "      <td>504</td>\n",
       "    </tr>\n",
       "    <tr>\n",
       "      <th>3</th>\n",
       "      <td>2</td>\n",
       "      <td>Furniture</td>\n",
       "      <td>1494</td>\n",
       "      <td>424</td>\n",
       "    </tr>\n",
       "    <tr>\n",
       "      <th>4</th>\n",
       "      <td>2</td>\n",
       "      <td>Office Supplies</td>\n",
       "      <td>4340</td>\n",
       "      <td>1319</td>\n",
       "    </tr>\n",
       "  </tbody>\n",
       "</table>\n",
       "</div>"
      ],
      "text/plain": [
       "   Month         Category   sum  count\n",
       "0      1        Furniture  1750    491\n",
       "1      1  Office Supplies  5480   1616\n",
       "2      1       Technology  1642    504\n",
       "3      2        Furniture  1494    424\n",
       "4      2  Office Supplies  4340   1319"
      ]
     },
     "execution_count": 59,
     "metadata": {},
     "output_type": "execute_result"
    }
   ],
   "source": [
    "#making another new df with agg values\n",
    "df_agg = df_orders.groupby(['Month', 'Category']).agg({'Quantity': ['sum', 'count']}).reset_index()\n",
    "df_agg.columns = ['Month', 'Category', 'sum', 'count']\n",
    "df_agg.head()"
   ]
  },
  {
   "cell_type": "markdown",
   "id": "3e405658",
   "metadata": {},
   "source": [
    "##### Visualization of Order Quantity by Category and Month"
   ]
  },
  {
   "cell_type": "code",
   "execution_count": 60,
   "id": "315db244",
   "metadata": {},
   "outputs": [
    {
     "data": {
      "text/plain": [
       "<seaborn.axisgrid.FacetGrid at 0x7fe14a39d100>"
      ]
     },
     "execution_count": 60,
     "metadata": {},
     "output_type": "execute_result"
    },
    {
     "data": {
      "image/png": "[encoded data removed]",
      "text/plain": [
       "<Figure size 1080x216 with 3 Axes>"
      ]
     },
     "metadata": {
      "needs_background": "light"
     },
     "output_type": "display_data"
    }
   ],
   "source": [
    "grid = sns.FacetGrid(df_agg, col = \"Category\", hue = \"Category\", col_wrap=5)\n",
    "grid.map(plt.scatter, \"Month\", \"sum\")"
   ]
  },
  {
   "cell_type": "markdown",
   "id": "d5eae77d",
   "metadata": {},
   "source": [
    "##### Visualization of Order Quantity by Month and Category"
   ]
  },
  {
   "cell_type": "code",
   "execution_count": 11,
   "id": "df43ff57",
   "metadata": {},
   "outputs": [
    {
     "data": {
      "text/plain": [
       "[Text(0, 0, '1642.0'),\n",
       " Text(0, 0, '1595.0'),\n",
       " Text(0, 0, '2009.0'),\n",
       " Text(0, 0, '2070.0'),\n",
       " Text(0, 0, '2542.0'),\n",
       " Text(0, 0, '3563.0'),\n",
       " Text(0, 0, '2271.0'),\n",
       " Text(0, 0, '3518.0'),\n",
       " Text(0, 0, '3796.0'),\n",
       " Text(0, 0, '3395.0'),\n",
       " Text(0, 0, '4379.0'),\n",
       " Text(0, 0, '4396.0')]"
      ]
     },
     "execution_count": 11,
     "metadata": {},
     "output_type": "execute_result"
    },
    {
     "data": {
      "image/png": "[encoded data removed]",
      "text/plain": [
       "<Figure size 576x432 with 1 Axes>"
      ]
     },
     "metadata": {
      "needs_background": "light"
     },
     "output_type": "display_data"
    }
   ],
   "source": [
    "ax = df_agg_month.plot(kind='bar', stacked=True, figsize=(8, 6), rot=0, xlabel='Month', ylabel='Order Quantity')\n",
    "plt.title('Order Quantity by Month and Category')\n",
    "\n",
    "for c in ax.containers:\n",
    "    # Optional: if the segment is small or 0, customize the labels\n",
    "    labels = [v.get_height() if v.get_height() > 0 else '' for v in c]\n",
    "\n",
    "ax.bar_label(c, labels=labels, label_type='center')    "
   ]
  },
  {
   "cell_type": "markdown",
   "id": "baf55560",
   "metadata": {},
   "source": [
    "#### Problem 3: Why did customers make returns?\n",
    "- Your manager required you to give a brief report (**Plots + Interpretations**) on returned orders.\n",
    "\n",
    "\t1. How much profit did we lose due to returns each year?\n",
    "\n",
    "- ***Hint:*** Merge the **Returns** dataframe with the **Orders** dataframe using `Order.ID`.\n"
   ]
  },
  {
   "cell_type": "code",
   "execution_count": 112,
   "id": "a65fbaf1",
   "metadata": {},
   "outputs": [
    {
     "data": {
      "text/html": [
       "<div>\n",
       "<style scoped>\n",
       "    .dataframe tbody tr th:only-of-type {\n",
       "        vertical-align: middle;\n",
       "    }\n",
       "\n",
       "    .dataframe tbody tr th {\n",
       "        vertical-align: top;\n",
       "    }\n",
       "\n",
       "    .dataframe thead th {\n",
       "        text-align: right;\n",
       "    }\n",
       "</style>\n",
       "<table border=\"1\" class=\"dataframe\">\n",
       "  <thead>\n",
       "    <tr style=\"text-align: right;\">\n",
       "      <th></th>\n",
       "      <th>Row.ID</th>\n",
       "      <th>Order.ID</th>\n",
       "      <th>Order.Date</th>\n",
       "      <th>Ship.Date</th>\n",
       "      <th>Ship.Mode</th>\n",
       "      <th>Customer.ID</th>\n",
       "      <th>Customer.Name</th>\n",
       "      <th>Segment</th>\n",
       "      <th>Postal.Code</th>\n",
       "      <th>City</th>\n",
       "      <th>...</th>\n",
       "      <th>Product.Name</th>\n",
       "      <th>Sales</th>\n",
       "      <th>Quantity</th>\n",
       "      <th>Discount</th>\n",
       "      <th>Profit</th>\n",
       "      <th>Shipping.Cost</th>\n",
       "      <th>Order.Priority</th>\n",
       "      <th>Returned</th>\n",
       "      <th>Order ID</th>\n",
       "      <th>Region</th>\n",
       "    </tr>\n",
       "  </thead>\n",
       "  <tbody>\n",
       "    <tr>\n",
       "      <th>0</th>\n",
       "      <td>30191</td>\n",
       "      <td>IN-2012-PB19210127-41259</td>\n",
       "      <td>12/16/12</td>\n",
       "      <td>12/19/12</td>\n",
       "      <td>First Class</td>\n",
       "      <td>PB-19210127</td>\n",
       "      <td>Phillip Breyer</td>\n",
       "      <td>Corporate</td>\n",
       "      <td>NaN</td>\n",
       "      <td>Taipei</td>\n",
       "      <td>...</td>\n",
       "      <td>Lesro Conference Table, with Bottom Storage</td>\n",
       "      <td>$1,715.16</td>\n",
       "      <td>2</td>\n",
       "      <td>0.0</td>\n",
       "      <td>$720.36</td>\n",
       "      <td>725.57</td>\n",
       "      <td>Critical</td>\n",
       "      <td>Yes</td>\n",
       "      <td>IN-2012-PB19210127-41259</td>\n",
       "      <td>Eastern Asia</td>\n",
       "    </tr>\n",
       "  </tbody>\n",
       "</table>\n",
       "<p>1 rows × 27 columns</p>\n",
       "</div>"
      ],
      "text/plain": [
       "   Row.ID                  Order.ID Order.Date Ship.Date    Ship.Mode  \\\n",
       "0   30191  IN-2012-PB19210127-41259   12/16/12  12/19/12  First Class   \n",
       "\n",
       "   Customer.ID   Customer.Name    Segment  Postal.Code    City  ...  \\\n",
       "0  PB-19210127  Phillip Breyer  Corporate          NaN  Taipei  ...   \n",
       "\n",
       "                                  Product.Name      Sales Quantity Discount  \\\n",
       "0  Lesro Conference Table, with Bottom Storage  $1,715.16        2      0.0   \n",
       "\n",
       "    Profit Shipping.Cost Order.Priority Returned                  Order ID  \\\n",
       "0  $720.36        725.57       Critical      Yes  IN-2012-PB19210127-41259   \n",
       "\n",
       "         Region  \n",
       "0  Eastern Asia  \n",
       "\n",
       "[1 rows x 27 columns]"
      ]
     },
     "execution_count": 112,
     "metadata": {},
     "output_type": "execute_result"
    }
   ],
   "source": [
    "#merge dateframes\n",
    "df_merged = pd.merge(df_orders,df_returns,left_on='Order.ID',right_on='Order ID')\n",
    "df_merged = df_merged.drop('Region_y', axis = 1)\n",
    "df_merged['Region'] = df_merged['Region_x']\n",
    "df_merged['Region'] = df_merged['Region_x']\n",
    "df_merged.head(1)"
   ]
  },
  {
   "cell_type": "code",
   "execution_count": 124,
   "id": "c16ea121",
   "metadata": {},
   "outputs": [],
   "source": [
    "#convert Profit to float\n",
    "list_of_strings_2 = df_merged['Profit'] \n",
    "list_of_strings_2 = [s.replace(\"$\", \"\") for s in list_of_strings_2]\n",
    "list_of_strings_2 = [s.replace(\",\", \"\") for s in list_of_strings_2]\n",
    "df_merged['Profit'] = [float(i) for i in list_of_strings_2]"
   ]
  },
  {
   "cell_type": "code",
   "execution_count": 125,
   "id": "d7a71c7c",
   "metadata": {},
   "outputs": [],
   "source": [
    "#convert Returned to str\n",
    "df_merged['Returned'] = df_merged['Returned'].astype(str)"
   ]
  },
  {
   "cell_type": "markdown",
   "id": "7d1b5007",
   "metadata": {},
   "source": [
    "##### 1. How much profit did we lose due to returns each year?"
   ]
  },
  {
   "cell_type": "code",
   "execution_count": 130,
   "id": "7f025efd",
   "metadata": {},
   "outputs": [
    {
     "data": {
      "text/plain": [
       "61370.75"
      ]
     },
     "execution_count": 130,
     "metadata": {},
     "output_type": "execute_result"
    }
   ],
   "source": [
    "df_merged.query(\"Returned == 'Yes'\")['Profit'].sum()"
   ]
  },
  {
   "cell_type": "code",
   "execution_count": 127,
   "id": "3f231768",
   "metadata": {},
   "outputs": [
    {
     "data": {
      "text/plain": [
       "Returned\n",
       "Yes    61370.75\n",
       "Name: Profit, dtype: float64"
      ]
     },
     "execution_count": 127,
     "metadata": {},
     "output_type": "execute_result"
    }
   ],
   "source": [
    "df_merged.groupby('Returned')['Profit'].sum()"
   ]
  },
  {
   "cell_type": "markdown",
   "id": "425a69b3",
   "metadata": {},
   "source": [
    "##### 2. How many customer returned more than once? more than 5 times?"
   ]
  },
  {
   "cell_type": "code",
   "execution_count": 155,
   "id": "aa9c69c2",
   "metadata": {},
   "outputs": [],
   "source": [
    "#creating new df\n",
    "df_returns_customer = df_merged.groupby('Customer.ID').agg({'Customer.ID':['count']}).reset_index()\n",
    "df_returns_customer.columns = ['Customer.ID', 'count']"
   ]
  },
  {
   "cell_type": "code",
   "execution_count": 156,
   "id": "21b1adf9",
   "metadata": {},
   "outputs": [
    {
     "data": {
      "text/plain": [
       "Customer.ID    AB-1016545AB-60086AG-675117AJ-1096031AM-107051...\n",
       "count                                                        328\n",
       "dtype: object"
      ]
     },
     "execution_count": 156,
     "metadata": {},
     "output_type": "execute_result"
    }
   ],
   "source": [
    "df_returns_customer[df_returns_customer['count']>5].sum()"
   ]
  },
  {
   "cell_type": "code",
   "execution_count": 157,
   "id": "49c46cdc",
   "metadata": {},
   "outputs": [
    {
     "data": {
      "text/plain": [
       "Customer.ID    AA-1064559AB-1001527AB-10105101AB-10165139AB-1...\n",
       "count                                                       1706\n",
       "dtype: object"
      ]
     },
     "execution_count": 157,
     "metadata": {},
     "output_type": "execute_result"
    }
   ],
   "source": [
    "df_returns_customer[df_returns_customer['count']>1].sum()"
   ]
  },
  {
   "cell_type": "markdown",
   "id": "71e03c38",
   "metadata": {},
   "source": [
    "###### 3. Which regions are more likely to return orders?"
   ]
  },
  {
   "cell_type": "code",
   "execution_count": 96,
   "id": "b5d42541",
   "metadata": {},
   "outputs": [
    {
     "data": {
      "text/html": [
       "<div>\n",
       "<style scoped>\n",
       "    .dataframe tbody tr th:only-of-type {\n",
       "        vertical-align: middle;\n",
       "    }\n",
       "\n",
       "    .dataframe tbody tr th {\n",
       "        vertical-align: top;\n",
       "    }\n",
       "\n",
       "    .dataframe thead th {\n",
       "        text-align: right;\n",
       "    }\n",
       "</style>\n",
       "<table border=\"1\" class=\"dataframe\">\n",
       "  <thead>\n",
       "    <tr style=\"text-align: right;\">\n",
       "      <th></th>\n",
       "      <th>Region</th>\n",
       "      <th>count</th>\n",
       "    </tr>\n",
       "  </thead>\n",
       "  <tbody>\n",
       "    <tr>\n",
       "      <th>3</th>\n",
       "      <td>Central America</td>\n",
       "      <td>248</td>\n",
       "    </tr>\n",
       "    <tr>\n",
       "      <th>21</th>\n",
       "      <td>Western Europe</td>\n",
       "      <td>233</td>\n",
       "    </tr>\n",
       "    <tr>\n",
       "      <th>22</th>\n",
       "      <td>Western US</td>\n",
       "      <td>177</td>\n",
       "    </tr>\n",
       "    <tr>\n",
       "      <th>12</th>\n",
       "      <td>Oceania</td>\n",
       "      <td>154</td>\n",
       "    </tr>\n",
       "    <tr>\n",
       "      <th>14</th>\n",
       "      <td>Southeastern Asia</td>\n",
       "      <td>140</td>\n",
       "    </tr>\n",
       "  </tbody>\n",
       "</table>\n",
       "</div>"
      ],
      "text/plain": [
       "               Region  count\n",
       "3     Central America    248\n",
       "21     Western Europe    233\n",
       "22         Western US    177\n",
       "12            Oceania    154\n",
       "14  Southeastern Asia    140"
      ]
     },
     "execution_count": 96,
     "metadata": {},
     "output_type": "execute_result"
    }
   ],
   "source": [
    "df_agg_3 = df_merged.groupby('Region').agg({'Returned': ['count']}).reset_index()\n",
    "df_agg_3.columns = ['Region', 'count']\n",
    "\n",
    "df_agg_3.sort_values(by=['count'], ascending=False).head()"
   ]
  },
  {
   "cell_type": "markdown",
   "id": "0f5f4090",
   "metadata": {},
   "source": [
    "##### 4. Which categories (sub-categories) of products are more likely to be returned"
   ]
  },
  {
   "cell_type": "code",
   "execution_count": 169,
   "id": "43cf31c9",
   "metadata": {},
   "outputs": [
    {
     "data": {
      "text/html": [
       "<div>\n",
       "<style scoped>\n",
       "    .dataframe tbody tr th:only-of-type {\n",
       "        vertical-align: middle;\n",
       "    }\n",
       "\n",
       "    .dataframe tbody tr th {\n",
       "        vertical-align: top;\n",
       "    }\n",
       "\n",
       "    .dataframe thead tr th {\n",
       "        text-align: left;\n",
       "    }\n",
       "</style>\n",
       "<table border=\"1\" class=\"dataframe\">\n",
       "  <thead>\n",
       "    <tr>\n",
       "      <th></th>\n",
       "      <th>Category</th>\n",
       "      <th colspan=\"2\" halign=\"left\">Sub.Category</th>\n",
       "    </tr>\n",
       "    <tr>\n",
       "      <th></th>\n",
       "      <th></th>\n",
       "      <th></th>\n",
       "      <th>count</th>\n",
       "    </tr>\n",
       "  </thead>\n",
       "  <tbody>\n",
       "    <tr>\n",
       "      <th>0</th>\n",
       "      <td>Furniture</td>\n",
       "      <td>Bookcases</td>\n",
       "      <td>104</td>\n",
       "    </tr>\n",
       "    <tr>\n",
       "      <th>1</th>\n",
       "      <td>Furniture</td>\n",
       "      <td>Chairs</td>\n",
       "      <td>147</td>\n",
       "    </tr>\n",
       "    <tr>\n",
       "      <th>2</th>\n",
       "      <td>Furniture</td>\n",
       "      <td>Furnishings</td>\n",
       "      <td>135</td>\n",
       "    </tr>\n",
       "    <tr>\n",
       "      <th>3</th>\n",
       "      <td>Furniture</td>\n",
       "      <td>Tables</td>\n",
       "      <td>41</td>\n",
       "    </tr>\n",
       "    <tr>\n",
       "      <th>4</th>\n",
       "      <td>Office Supplies</td>\n",
       "      <td>Appliances</td>\n",
       "      <td>59</td>\n",
       "    </tr>\n",
       "    <tr>\n",
       "      <th>5</th>\n",
       "      <td>Office Supplies</td>\n",
       "      <td>Art</td>\n",
       "      <td>217</td>\n",
       "    </tr>\n",
       "    <tr>\n",
       "      <th>6</th>\n",
       "      <td>Office Supplies</td>\n",
       "      <td>Binders</td>\n",
       "      <td>269</td>\n",
       "    </tr>\n",
       "    <tr>\n",
       "      <th>7</th>\n",
       "      <td>Office Supplies</td>\n",
       "      <td>Envelopes</td>\n",
       "      <td>99</td>\n",
       "    </tr>\n",
       "    <tr>\n",
       "      <th>8</th>\n",
       "      <td>Office Supplies</td>\n",
       "      <td>Fasteners</td>\n",
       "      <td>102</td>\n",
       "    </tr>\n",
       "    <tr>\n",
       "      <th>9</th>\n",
       "      <td>Office Supplies</td>\n",
       "      <td>Labels</td>\n",
       "      <td>137</td>\n",
       "    </tr>\n",
       "    <tr>\n",
       "      <th>10</th>\n",
       "      <td>Office Supplies</td>\n",
       "      <td>Paper</td>\n",
       "      <td>150</td>\n",
       "    </tr>\n",
       "    <tr>\n",
       "      <th>11</th>\n",
       "      <td>Office Supplies</td>\n",
       "      <td>Storage</td>\n",
       "      <td>212</td>\n",
       "    </tr>\n",
       "    <tr>\n",
       "      <th>12</th>\n",
       "      <td>Office Supplies</td>\n",
       "      <td>Supplies</td>\n",
       "      <td>103</td>\n",
       "    </tr>\n",
       "    <tr>\n",
       "      <th>13</th>\n",
       "      <td>Technology</td>\n",
       "      <td>Accessories</td>\n",
       "      <td>138</td>\n",
       "    </tr>\n",
       "    <tr>\n",
       "      <th>14</th>\n",
       "      <td>Technology</td>\n",
       "      <td>Copiers</td>\n",
       "      <td>99</td>\n",
       "    </tr>\n",
       "    <tr>\n",
       "      <th>15</th>\n",
       "      <td>Technology</td>\n",
       "      <td>Machines</td>\n",
       "      <td>63</td>\n",
       "    </tr>\n",
       "    <tr>\n",
       "      <th>16</th>\n",
       "      <td>Technology</td>\n",
       "      <td>Phones</td>\n",
       "      <td>145</td>\n",
       "    </tr>\n",
       "  </tbody>\n",
       "</table>\n",
       "</div>"
      ],
      "text/plain": [
       "           Category Sub.Category      \n",
       "                                 count\n",
       "0         Furniture    Bookcases   104\n",
       "1         Furniture       Chairs   147\n",
       "2         Furniture  Furnishings   135\n",
       "3         Furniture       Tables    41\n",
       "4   Office Supplies   Appliances    59\n",
       "5   Office Supplies          Art   217\n",
       "6   Office Supplies      Binders   269\n",
       "7   Office Supplies    Envelopes    99\n",
       "8   Office Supplies    Fasteners   102\n",
       "9   Office Supplies       Labels   137\n",
       "10  Office Supplies        Paper   150\n",
       "11  Office Supplies      Storage   212\n",
       "12  Office Supplies     Supplies   103\n",
       "13       Technology  Accessories   138\n",
       "14       Technology      Copiers    99\n",
       "15       Technology     Machines    63\n",
       "16       Technology       Phones   145"
      ]
     },
     "execution_count": 169,
     "metadata": {},
     "output_type": "execute_result"
    }
   ],
   "source": [
    "df_categories = df_merged.groupby(['Category','Sub.Category']).agg({'Sub.Category': ['count']}).reset_index()\n",
    "df_categories"
   ]
  },
  {
   "cell_type": "code",
   "execution_count": 165,
   "id": "c4ee8eb6",
   "metadata": {},
   "outputs": [
    {
     "data": {
      "text/html": [
       "<div>\n",
       "<style scoped>\n",
       "    .dataframe tbody tr th:only-of-type {\n",
       "        vertical-align: middle;\n",
       "    }\n",
       "\n",
       "    .dataframe tbody tr th {\n",
       "        vertical-align: top;\n",
       "    }\n",
       "\n",
       "    .dataframe thead tr th {\n",
       "        text-align: left;\n",
       "    }\n",
       "</style>\n",
       "<table border=\"1\" class=\"dataframe\">\n",
       "  <thead>\n",
       "    <tr>\n",
       "      <th></th>\n",
       "      <th>Returned</th>\n",
       "      <th>Category</th>\n",
       "      <th colspan=\"2\" halign=\"left\">Sub.Category</th>\n",
       "    </tr>\n",
       "    <tr>\n",
       "      <th></th>\n",
       "      <th></th>\n",
       "      <th></th>\n",
       "      <th></th>\n",
       "      <th>count</th>\n",
       "    </tr>\n",
       "  </thead>\n",
       "  <tbody>\n",
       "    <tr>\n",
       "      <th>0</th>\n",
       "      <td>Yes</td>\n",
       "      <td>Furniture</td>\n",
       "      <td>Bookcases</td>\n",
       "      <td>104</td>\n",
       "    </tr>\n",
       "    <tr>\n",
       "      <th>1</th>\n",
       "      <td>Yes</td>\n",
       "      <td>Furniture</td>\n",
       "      <td>Chairs</td>\n",
       "      <td>147</td>\n",
       "    </tr>\n",
       "    <tr>\n",
       "      <th>2</th>\n",
       "      <td>Yes</td>\n",
       "      <td>Furniture</td>\n",
       "      <td>Furnishings</td>\n",
       "      <td>135</td>\n",
       "    </tr>\n",
       "    <tr>\n",
       "      <th>3</th>\n",
       "      <td>Yes</td>\n",
       "      <td>Furniture</td>\n",
       "      <td>Tables</td>\n",
       "      <td>41</td>\n",
       "    </tr>\n",
       "    <tr>\n",
       "      <th>4</th>\n",
       "      <td>Yes</td>\n",
       "      <td>Office Supplies</td>\n",
       "      <td>Appliances</td>\n",
       "      <td>59</td>\n",
       "    </tr>\n",
       "    <tr>\n",
       "      <th>5</th>\n",
       "      <td>Yes</td>\n",
       "      <td>Office Supplies</td>\n",
       "      <td>Art</td>\n",
       "      <td>217</td>\n",
       "    </tr>\n",
       "    <tr>\n",
       "      <th>6</th>\n",
       "      <td>Yes</td>\n",
       "      <td>Office Supplies</td>\n",
       "      <td>Binders</td>\n",
       "      <td>269</td>\n",
       "    </tr>\n",
       "    <tr>\n",
       "      <th>7</th>\n",
       "      <td>Yes</td>\n",
       "      <td>Office Supplies</td>\n",
       "      <td>Envelopes</td>\n",
       "      <td>99</td>\n",
       "    </tr>\n",
       "    <tr>\n",
       "      <th>8</th>\n",
       "      <td>Yes</td>\n",
       "      <td>Office Supplies</td>\n",
       "      <td>Fasteners</td>\n",
       "      <td>102</td>\n",
       "    </tr>\n",
       "    <tr>\n",
       "      <th>9</th>\n",
       "      <td>Yes</td>\n",
       "      <td>Office Supplies</td>\n",
       "      <td>Labels</td>\n",
       "      <td>137</td>\n",
       "    </tr>\n",
       "    <tr>\n",
       "      <th>10</th>\n",
       "      <td>Yes</td>\n",
       "      <td>Office Supplies</td>\n",
       "      <td>Paper</td>\n",
       "      <td>150</td>\n",
       "    </tr>\n",
       "    <tr>\n",
       "      <th>11</th>\n",
       "      <td>Yes</td>\n",
       "      <td>Office Supplies</td>\n",
       "      <td>Storage</td>\n",
       "      <td>212</td>\n",
       "    </tr>\n",
       "    <tr>\n",
       "      <th>12</th>\n",
       "      <td>Yes</td>\n",
       "      <td>Office Supplies</td>\n",
       "      <td>Supplies</td>\n",
       "      <td>103</td>\n",
       "    </tr>\n",
       "    <tr>\n",
       "      <th>13</th>\n",
       "      <td>Yes</td>\n",
       "      <td>Technology</td>\n",
       "      <td>Accessories</td>\n",
       "      <td>138</td>\n",
       "    </tr>\n",
       "    <tr>\n",
       "      <th>14</th>\n",
       "      <td>Yes</td>\n",
       "      <td>Technology</td>\n",
       "      <td>Copiers</td>\n",
       "      <td>99</td>\n",
       "    </tr>\n",
       "    <tr>\n",
       "      <th>15</th>\n",
       "      <td>Yes</td>\n",
       "      <td>Technology</td>\n",
       "      <td>Machines</td>\n",
       "      <td>63</td>\n",
       "    </tr>\n",
       "    <tr>\n",
       "      <th>16</th>\n",
       "      <td>Yes</td>\n",
       "      <td>Technology</td>\n",
       "      <td>Phones</td>\n",
       "      <td>145</td>\n",
       "    </tr>\n",
       "  </tbody>\n",
       "</table>\n",
       "</div>"
      ],
      "text/plain": [
       "   Returned         Category Sub.Category      \n",
       "                                          count\n",
       "0       Yes        Furniture    Bookcases   104\n",
       "1       Yes        Furniture       Chairs   147\n",
       "2       Yes        Furniture  Furnishings   135\n",
       "3       Yes        Furniture       Tables    41\n",
       "4       Yes  Office Supplies   Appliances    59\n",
       "5       Yes  Office Supplies          Art   217\n",
       "6       Yes  Office Supplies      Binders   269\n",
       "7       Yes  Office Supplies    Envelopes    99\n",
       "8       Yes  Office Supplies    Fasteners   102\n",
       "9       Yes  Office Supplies       Labels   137\n",
       "10      Yes  Office Supplies        Paper   150\n",
       "11      Yes  Office Supplies      Storage   212\n",
       "12      Yes  Office Supplies     Supplies   103\n",
       "13      Yes       Technology  Accessories   138\n",
       "14      Yes       Technology      Copiers    99\n",
       "15      Yes       Technology     Machines    63\n",
       "16      Yes       Technology       Phones   145"
      ]
     },
     "execution_count": 165,
     "metadata": {},
     "output_type": "execute_result"
    }
   ],
   "source": [
    "df_returned_categories = df_merged.groupby(['Returned','Category','Sub.Category']).agg({'Sub.Category': ['count']}).reset_index()\n",
    "df_returned_categories\n"
   ]
  },
  {
   "cell_type": "markdown",
   "id": "8cce7058",
   "metadata": {},
   "source": [
    "## Part II: Machine Learning and Business Use Case\n",
    "\n",
    "Now your manager has a basic understanding of why customers returned orders. Next, he wants you to use machine learning to predict which orders are most likely to be returned. In this part, you will generate several features based on our previous findings and your manager's requirements.\n"
   ]
  },
  {
   "cell_type": "code",
   "execution_count": 171,
   "id": "eeea2f33",
   "metadata": {},
   "outputs": [],
   "source": [
    "import matplotlib.pyplot as plt\n",
    "\n",
    "import pandas as pd\n",
    "\n",
    "from sklearn.ensemble import RandomForestClassifier\n",
    "\n",
    "from sklearn.linear_model import LogisticRegression\n",
    "\n",
    "from sklearn.metrics import classification_report\n",
    "from sklearn.metrics import confusion_matrix\n",
    "from sklearn.metrics import plot_confusion_matrix\n",
    "from sklearn.metrics import plot_precision_recall_curve\n",
    "from sklearn.metrics import plot_roc_curve\n",
    "from sklearn.metrics import roc_auc_score\n",
    "\n",
    "from sklearn.model_selection import train_test_split\n",
    "\n",
    "# Option to display all dataframes columns\n",
    "pd.options.display.max_columns = None"
   ]
  },
  {
   "cell_type": "markdown",
   "id": "509c1efd",
   "metadata": {},
   "source": [
    "#### Cleaning Data"
   ]
  },
  {
   "cell_type": "code",
   "execution_count": 285,
   "id": "102cf17e",
   "metadata": {},
   "outputs": [],
   "source": [
    "ml_returns = pd.read_csv('../nicole/data/Returns.csv')\n",
    "ml_orders = pd.read_csv('../nicole/data/Orders.csv')"
   ]
  },
  {
   "cell_type": "code",
   "execution_count": 286,
   "id": "038d6693",
   "metadata": {},
   "outputs": [],
   "source": [
    "#converting str to numeric for Sales and Profit\n",
    "list_of_strings = ml_orders['Sales'] \n",
    "list_of_strings = [s.replace(\"$\", \"\") for s in list_of_strings]\n",
    "list_of_strings = [s.replace(\",\", \"\") for s in list_of_strings]\n",
    "ml_orders['Sales'] = [float(i) for i in list_of_strings]\n",
    "\n",
    "list_of_strings_P = ml_orders['Profit'] \n",
    "list_of_strings_P = [s.replace(\"$\", \"\") for s in list_of_strings_P]\n",
    "list_of_strings_P = [s.replace(\",\", \"\") for s in list_of_strings_P]\n",
    "ml_orders['Profit'] = [float(i) for i in list_of_strings_P]"
   ]
  },
  {
   "cell_type": "code",
   "execution_count": 300,
   "id": "af366d8e",
   "metadata": {},
   "outputs": [
    {
     "data": {
      "text/html": [
       "<div>\n",
       "<style scoped>\n",
       "    .dataframe tbody tr th:only-of-type {\n",
       "        vertical-align: middle;\n",
       "    }\n",
       "\n",
       "    .dataframe tbody tr th {\n",
       "        vertical-align: top;\n",
       "    }\n",
       "\n",
       "    .dataframe thead th {\n",
       "        text-align: right;\n",
       "    }\n",
       "</style>\n",
       "<table border=\"1\" class=\"dataframe\">\n",
       "  <thead>\n",
       "    <tr style=\"text-align: right;\">\n",
       "      <th></th>\n",
       "      <th>Row.ID</th>\n",
       "      <th>Order.ID</th>\n",
       "      <th>Order.Date</th>\n",
       "      <th>Ship.Date</th>\n",
       "      <th>Ship.Mode</th>\n",
       "      <th>Customer.ID</th>\n",
       "      <th>Customer.Name</th>\n",
       "      <th>Segment</th>\n",
       "      <th>Postal.Code</th>\n",
       "      <th>City</th>\n",
       "      <th>State</th>\n",
       "      <th>Country</th>\n",
       "      <th>Region_x</th>\n",
       "      <th>Market</th>\n",
       "      <th>Product.ID</th>\n",
       "      <th>Category</th>\n",
       "      <th>Sub.Category</th>\n",
       "      <th>Product.Name</th>\n",
       "      <th>Sales</th>\n",
       "      <th>Quantity</th>\n",
       "      <th>Discount</th>\n",
       "      <th>Profit</th>\n",
       "      <th>Shipping.Cost</th>\n",
       "      <th>Order.Priority</th>\n",
       "      <th>Returned</th>\n",
       "      <th>Order ID</th>\n",
       "      <th>Region</th>\n",
       "    </tr>\n",
       "  </thead>\n",
       "  <tbody>\n",
       "    <tr>\n",
       "      <th>0</th>\n",
       "      <td>40098</td>\n",
       "      <td>CA-2014-AB10015140-41954</td>\n",
       "      <td>11/11/14</td>\n",
       "      <td>11/13/14</td>\n",
       "      <td>First Class</td>\n",
       "      <td>AB-100151402</td>\n",
       "      <td>Aaron Bergman</td>\n",
       "      <td>Consumer</td>\n",
       "      <td>73120.0</td>\n",
       "      <td>Oklahoma City</td>\n",
       "      <td>Oklahoma</td>\n",
       "      <td>United States</td>\n",
       "      <td>Central US</td>\n",
       "      <td>USCA</td>\n",
       "      <td>TEC-PH-5816</td>\n",
       "      <td>Technology</td>\n",
       "      <td>Phones</td>\n",
       "      <td>Samsung Convoy 3</td>\n",
       "      <td>221.98</td>\n",
       "      <td>2</td>\n",
       "      <td>0.0</td>\n",
       "      <td>62.15</td>\n",
       "      <td>40.77</td>\n",
       "      <td>High</td>\n",
       "      <td>NaN</td>\n",
       "      <td>NaN</td>\n",
       "      <td>Central US</td>\n",
       "    </tr>\n",
       "  </tbody>\n",
       "</table>\n",
       "</div>"
      ],
      "text/plain": [
       "   Row.ID                  Order.ID Order.Date Ship.Date    Ship.Mode  \\\n",
       "0   40098  CA-2014-AB10015140-41954   11/11/14  11/13/14  First Class   \n",
       "\n",
       "    Customer.ID  Customer.Name   Segment  Postal.Code           City  \\\n",
       "0  AB-100151402  Aaron Bergman  Consumer      73120.0  Oklahoma City   \n",
       "\n",
       "      State        Country    Region_x Market   Product.ID    Category  \\\n",
       "0  Oklahoma  United States  Central US   USCA  TEC-PH-5816  Technology   \n",
       "\n",
       "  Sub.Category      Product.Name   Sales  Quantity  Discount  Profit  \\\n",
       "0       Phones  Samsung Convoy 3  221.98         2       0.0   62.15   \n",
       "\n",
       "   Shipping.Cost Order.Priority Returned Order ID      Region  \n",
       "0          40.77           High      NaN      NaN  Central US  "
      ]
     },
     "execution_count": 300,
     "metadata": {},
     "output_type": "execute_result"
    }
   ],
   "source": [
    "#merging date frames\n",
    "ml_merged = ml_orders.merge(ml_returns,left_on='Order.ID',right_on='Order ID', how= 'left')\n",
    "ml_merged = ml_merged.drop('Region_y', axis = 1)\n",
    "ml_merged['Region'] = ml_merged['Region_x']\n",
    "ml_merged.head(1)"
   ]
  },
  {
   "cell_type": "code",
   "execution_count": 299,
   "id": "82aa9012",
   "metadata": {},
   "outputs": [],
   "source": [
    "#convert to date format\n",
    "ml_merged['Order.Date'] = pd.DatetimeIndex(ml_merged['Order.Date'])\n",
    "ml_merged['Ship.Date'] = pd.DatetimeIndex(ml_merged['Ship.Date'])"
   ]
  },
  {
   "cell_type": "markdown",
   "id": "6cdadfd1",
   "metadata": {},
   "source": [
    "### Problem 4: Feature Engineering\n",
    "#### Step 1: Create the dependent variable\n",
    "- First of all, we need to generate a categorical variable which indicates whether an order has been returned or not.\n",
    "- ***Hint:*** the returned orders’ IDs are contained in the dataset “returns”"
   ]
  },
  {
   "cell_type": "code",
   "execution_count": 302,
   "id": "d077ac75",
   "metadata": {},
   "outputs": [
    {
     "data": {
      "text/plain": [
       "26       Yes\n",
       "35334    Yes\n",
       "35324    Yes\n",
       "35287    Yes\n",
       "35267    Yes\n",
       "        ... \n",
       "51285    NaN\n",
       "51286    NaN\n",
       "51287    NaN\n",
       "51288    NaN\n",
       "51289    NaN\n",
       "Name: Returned, Length: 51290, dtype: object"
      ]
     },
     "execution_count": 302,
     "metadata": {},
     "output_type": "execute_result"
    }
   ],
   "source": [
    "ml_merged.Returned.sort_values(ascending = True)"
   ]
  },
  {
   "cell_type": "code",
   "execution_count": 303,
   "id": "d3a187bc",
   "metadata": {},
   "outputs": [],
   "source": [
    "#turn yes into 1 or 0\n",
    "ml_merged['Returned'] = ml_merged['Returned'].map(lambda x: 1 if x == 'Yes' else 0)"
   ]
  },
  {
   "cell_type": "code",
   "execution_count": 277,
   "id": "531a0c20",
   "metadata": {},
   "outputs": [
    {
     "data": {
      "text/plain": [
       "0    51290\n",
       "Name: Returned, dtype: int64"
      ]
     },
     "execution_count": 277,
     "metadata": {},
     "output_type": "execute_result"
    }
   ],
   "source": [
    "#dropping orders that were not returned\n",
    "#ml_merged['Returned'].value_counts(dropna=False)"
   ]
  },
  {
   "cell_type": "code",
   "execution_count": 305,
   "id": "32c36392",
   "metadata": {},
   "outputs": [
    {
     "data": {
      "text/html": [
       "<div>\n",
       "<style scoped>\n",
       "    .dataframe tbody tr th:only-of-type {\n",
       "        vertical-align: middle;\n",
       "    }\n",
       "\n",
       "    .dataframe tbody tr th {\n",
       "        vertical-align: top;\n",
       "    }\n",
       "\n",
       "    .dataframe thead th {\n",
       "        text-align: right;\n",
       "    }\n",
       "</style>\n",
       "<table border=\"1\" class=\"dataframe\">\n",
       "  <thead>\n",
       "    <tr style=\"text-align: right;\">\n",
       "      <th></th>\n",
       "      <th>Row.ID</th>\n",
       "      <th>Order.ID</th>\n",
       "      <th>Order.Date</th>\n",
       "      <th>Ship.Date</th>\n",
       "      <th>Ship.Mode</th>\n",
       "      <th>Customer.ID</th>\n",
       "      <th>Customer.Name</th>\n",
       "      <th>Segment</th>\n",
       "      <th>Postal.Code</th>\n",
       "      <th>City</th>\n",
       "      <th>State</th>\n",
       "      <th>Country</th>\n",
       "      <th>Region_x</th>\n",
       "      <th>Market</th>\n",
       "      <th>Product.ID</th>\n",
       "      <th>Category</th>\n",
       "      <th>Sub.Category</th>\n",
       "      <th>Product.Name</th>\n",
       "      <th>Sales</th>\n",
       "      <th>Quantity</th>\n",
       "      <th>Discount</th>\n",
       "      <th>Profit</th>\n",
       "      <th>Shipping.Cost</th>\n",
       "      <th>Order.Priority</th>\n",
       "      <th>Returned</th>\n",
       "    </tr>\n",
       "  </thead>\n",
       "  <tbody>\n",
       "    <tr>\n",
       "      <th>0</th>\n",
       "      <td>40098</td>\n",
       "      <td>CA-2014-AB10015140-41954</td>\n",
       "      <td>11/11/14</td>\n",
       "      <td>11/13/14</td>\n",
       "      <td>First Class</td>\n",
       "      <td>AB-100151402</td>\n",
       "      <td>Aaron Bergman</td>\n",
       "      <td>Consumer</td>\n",
       "      <td>73120.0</td>\n",
       "      <td>Oklahoma City</td>\n",
       "      <td>Oklahoma</td>\n",
       "      <td>United States</td>\n",
       "      <td>Central US</td>\n",
       "      <td>USCA</td>\n",
       "      <td>TEC-PH-5816</td>\n",
       "      <td>Technology</td>\n",
       "      <td>Phones</td>\n",
       "      <td>Samsung Convoy 3</td>\n",
       "      <td>221.98</td>\n",
       "      <td>2</td>\n",
       "      <td>0.0</td>\n",
       "      <td>62.15</td>\n",
       "      <td>40.770</td>\n",
       "      <td>High</td>\n",
       "      <td>0</td>\n",
       "    </tr>\n",
       "    <tr>\n",
       "      <th>1</th>\n",
       "      <td>26341</td>\n",
       "      <td>IN-2014-JR162107-41675</td>\n",
       "      <td>2/5/14</td>\n",
       "      <td>2/7/14</td>\n",
       "      <td>Second Class</td>\n",
       "      <td>JR-162107</td>\n",
       "      <td>Justin Ritter</td>\n",
       "      <td>Corporate</td>\n",
       "      <td>NaN</td>\n",
       "      <td>Wollongong</td>\n",
       "      <td>New South Wales</td>\n",
       "      <td>Australia</td>\n",
       "      <td>Oceania</td>\n",
       "      <td>Asia Pacific</td>\n",
       "      <td>FUR-CH-5379</td>\n",
       "      <td>Furniture</td>\n",
       "      <td>Chairs</td>\n",
       "      <td>Novimex Executive Leather Armchair, Black</td>\n",
       "      <td>3709.40</td>\n",
       "      <td>9</td>\n",
       "      <td>0.1</td>\n",
       "      <td>-288.77</td>\n",
       "      <td>923.630</td>\n",
       "      <td>Critical</td>\n",
       "      <td>0</td>\n",
       "    </tr>\n",
       "    <tr>\n",
       "      <th>2</th>\n",
       "      <td>25330</td>\n",
       "      <td>IN-2014-CR127307-41929</td>\n",
       "      <td>10/17/14</td>\n",
       "      <td>10/18/14</td>\n",
       "      <td>First Class</td>\n",
       "      <td>CR-127307</td>\n",
       "      <td>Craig Reiter</td>\n",
       "      <td>Consumer</td>\n",
       "      <td>NaN</td>\n",
       "      <td>Brisbane</td>\n",
       "      <td>Queensland</td>\n",
       "      <td>Australia</td>\n",
       "      <td>Oceania</td>\n",
       "      <td>Asia Pacific</td>\n",
       "      <td>TEC-PH-5356</td>\n",
       "      <td>Technology</td>\n",
       "      <td>Phones</td>\n",
       "      <td>Nokia Smart Phone, with Caller ID</td>\n",
       "      <td>5175.17</td>\n",
       "      <td>9</td>\n",
       "      <td>0.1</td>\n",
       "      <td>919.97</td>\n",
       "      <td>915.490</td>\n",
       "      <td>Medium</td>\n",
       "      <td>0</td>\n",
       "    </tr>\n",
       "    <tr>\n",
       "      <th>3</th>\n",
       "      <td>13524</td>\n",
       "      <td>ES-2014-KM1637548-41667</td>\n",
       "      <td>1/28/14</td>\n",
       "      <td>1/30/14</td>\n",
       "      <td>First Class</td>\n",
       "      <td>KM-1637548</td>\n",
       "      <td>Katherine Murray</td>\n",
       "      <td>Home Office</td>\n",
       "      <td>NaN</td>\n",
       "      <td>Berlin</td>\n",
       "      <td>Berlin</td>\n",
       "      <td>Germany</td>\n",
       "      <td>Western Europe</td>\n",
       "      <td>Europe</td>\n",
       "      <td>TEC-PH-5267</td>\n",
       "      <td>Technology</td>\n",
       "      <td>Phones</td>\n",
       "      <td>Motorola Smart Phone, Cordless</td>\n",
       "      <td>2892.51</td>\n",
       "      <td>5</td>\n",
       "      <td>0.1</td>\n",
       "      <td>-96.54</td>\n",
       "      <td>910.160</td>\n",
       "      <td>Medium</td>\n",
       "      <td>0</td>\n",
       "    </tr>\n",
       "    <tr>\n",
       "      <th>4</th>\n",
       "      <td>47221</td>\n",
       "      <td>SG-2014-RH9495111-41948</td>\n",
       "      <td>11/5/14</td>\n",
       "      <td>11/6/14</td>\n",
       "      <td>Same Day</td>\n",
       "      <td>RH-9495111</td>\n",
       "      <td>Rick Hansen</td>\n",
       "      <td>Consumer</td>\n",
       "      <td>NaN</td>\n",
       "      <td>Dakar</td>\n",
       "      <td>Dakar</td>\n",
       "      <td>Senegal</td>\n",
       "      <td>Western Africa</td>\n",
       "      <td>Africa</td>\n",
       "      <td>TEC-CO-6011</td>\n",
       "      <td>Technology</td>\n",
       "      <td>Copiers</td>\n",
       "      <td>Sharp Wireless Fax, High-Speed</td>\n",
       "      <td>2832.96</td>\n",
       "      <td>8</td>\n",
       "      <td>0.0</td>\n",
       "      <td>311.52</td>\n",
       "      <td>903.040</td>\n",
       "      <td>Critical</td>\n",
       "      <td>0</td>\n",
       "    </tr>\n",
       "    <tr>\n",
       "      <th>...</th>\n",
       "      <td>...</td>\n",
       "      <td>...</td>\n",
       "      <td>...</td>\n",
       "      <td>...</td>\n",
       "      <td>...</td>\n",
       "      <td>...</td>\n",
       "      <td>...</td>\n",
       "      <td>...</td>\n",
       "      <td>...</td>\n",
       "      <td>...</td>\n",
       "      <td>...</td>\n",
       "      <td>...</td>\n",
       "      <td>...</td>\n",
       "      <td>...</td>\n",
       "      <td>...</td>\n",
       "      <td>...</td>\n",
       "      <td>...</td>\n",
       "      <td>...</td>\n",
       "      <td>...</td>\n",
       "      <td>...</td>\n",
       "      <td>...</td>\n",
       "      <td>...</td>\n",
       "      <td>...</td>\n",
       "      <td>...</td>\n",
       "      <td>...</td>\n",
       "    </tr>\n",
       "    <tr>\n",
       "      <th>51285</th>\n",
       "      <td>29002</td>\n",
       "      <td>IN-2015-KE1642066-42174</td>\n",
       "      <td>6/19/15</td>\n",
       "      <td>6/19/15</td>\n",
       "      <td>Same Day</td>\n",
       "      <td>KE-1642066</td>\n",
       "      <td>Katrina Edelman</td>\n",
       "      <td>Corporate</td>\n",
       "      <td>NaN</td>\n",
       "      <td>Kure</td>\n",
       "      <td>Hiroshima</td>\n",
       "      <td>Japan</td>\n",
       "      <td>Eastern Asia</td>\n",
       "      <td>Asia Pacific</td>\n",
       "      <td>OFF-FA-3072</td>\n",
       "      <td>Office Supplies</td>\n",
       "      <td>Fasteners</td>\n",
       "      <td>Advantus Thumb Tacks, 12 Pack</td>\n",
       "      <td>65.10</td>\n",
       "      <td>5</td>\n",
       "      <td>0.0</td>\n",
       "      <td>4.50</td>\n",
       "      <td>1.010</td>\n",
       "      <td>Medium</td>\n",
       "      <td>0</td>\n",
       "    </tr>\n",
       "    <tr>\n",
       "      <th>51286</th>\n",
       "      <td>34337</td>\n",
       "      <td>US-2014-ZD21925140-41765</td>\n",
       "      <td>5/6/14</td>\n",
       "      <td>5/10/14</td>\n",
       "      <td>Standard Class</td>\n",
       "      <td>ZD-219251408</td>\n",
       "      <td>Zuschuss Donatelli</td>\n",
       "      <td>Consumer</td>\n",
       "      <td>37421.0</td>\n",
       "      <td>Chattanooga</td>\n",
       "      <td>Tennessee</td>\n",
       "      <td>United States</td>\n",
       "      <td>Southern US</td>\n",
       "      <td>USCA</td>\n",
       "      <td>FUR-FU-4070</td>\n",
       "      <td>Furniture</td>\n",
       "      <td>Furnishings</td>\n",
       "      <td>Eldon Image Series Desk Accessories, Burgundy</td>\n",
       "      <td>16.72</td>\n",
       "      <td>5</td>\n",
       "      <td>0.2</td>\n",
       "      <td>3.34</td>\n",
       "      <td>1.930</td>\n",
       "      <td>High</td>\n",
       "      <td>0</td>\n",
       "    </tr>\n",
       "    <tr>\n",
       "      <th>51287</th>\n",
       "      <td>31315</td>\n",
       "      <td>CA-2012-ZD21925140-41147</td>\n",
       "      <td>8/26/12</td>\n",
       "      <td>8/31/12</td>\n",
       "      <td>Second Class</td>\n",
       "      <td>ZD-219251404</td>\n",
       "      <td>Zuschuss Donatelli</td>\n",
       "      <td>Consumer</td>\n",
       "      <td>94109.0</td>\n",
       "      <td>San Francisco</td>\n",
       "      <td>California</td>\n",
       "      <td>United States</td>\n",
       "      <td>Western US</td>\n",
       "      <td>USCA</td>\n",
       "      <td>OFF-AR-5321</td>\n",
       "      <td>Office Supplies</td>\n",
       "      <td>Art</td>\n",
       "      <td>Newell 341</td>\n",
       "      <td>8.56</td>\n",
       "      <td>2</td>\n",
       "      <td>0.0</td>\n",
       "      <td>2.48</td>\n",
       "      <td>1.580</td>\n",
       "      <td>High</td>\n",
       "      <td>0</td>\n",
       "    </tr>\n",
       "    <tr>\n",
       "      <th>51288</th>\n",
       "      <td>9596</td>\n",
       "      <td>MX-2013-RB1979518-41322</td>\n",
       "      <td>2/17/13</td>\n",
       "      <td>2/21/13</td>\n",
       "      <td>Standard Class</td>\n",
       "      <td>RB-1979518</td>\n",
       "      <td>Ross Baird</td>\n",
       "      <td>Home Office</td>\n",
       "      <td>NaN</td>\n",
       "      <td>Valinhos</td>\n",
       "      <td>São Paulo</td>\n",
       "      <td>Brazil</td>\n",
       "      <td>South America</td>\n",
       "      <td>LATAM</td>\n",
       "      <td>OFF-BI-2919</td>\n",
       "      <td>Office Supplies</td>\n",
       "      <td>Binders</td>\n",
       "      <td>Acco Index Tab, Economy</td>\n",
       "      <td>13.44</td>\n",
       "      <td>2</td>\n",
       "      <td>0.0</td>\n",
       "      <td>2.40</td>\n",
       "      <td>1.003</td>\n",
       "      <td>Medium</td>\n",
       "      <td>0</td>\n",
       "    </tr>\n",
       "    <tr>\n",
       "      <th>51289</th>\n",
       "      <td>6147</td>\n",
       "      <td>MX-2013-MC1810093-41416</td>\n",
       "      <td>5/22/13</td>\n",
       "      <td>5/26/13</td>\n",
       "      <td>Second Class</td>\n",
       "      <td>MC-1810093</td>\n",
       "      <td>Mick Crebagga</td>\n",
       "      <td>Consumer</td>\n",
       "      <td>NaN</td>\n",
       "      <td>Tipitapa</td>\n",
       "      <td>Managua</td>\n",
       "      <td>Nicaragua</td>\n",
       "      <td>Central America</td>\n",
       "      <td>LATAM</td>\n",
       "      <td>OFF-PA-3990</td>\n",
       "      <td>Office Supplies</td>\n",
       "      <td>Paper</td>\n",
       "      <td>Eaton Computer Printout Paper, 8.5 x 11</td>\n",
       "      <td>61.38</td>\n",
       "      <td>3</td>\n",
       "      <td>0.0</td>\n",
       "      <td>1.80</td>\n",
       "      <td>1.002</td>\n",
       "      <td>High</td>\n",
       "      <td>0</td>\n",
       "    </tr>\n",
       "  </tbody>\n",
       "</table>\n",
       "<p>51290 rows × 25 columns</p>\n",
       "</div>"
      ],
      "text/plain": [
       "       Row.ID                  Order.ID Order.Date Ship.Date       Ship.Mode  \\\n",
       "0       40098  CA-2014-AB10015140-41954   11/11/14  11/13/14     First Class   \n",
       "1       26341    IN-2014-JR162107-41675     2/5/14    2/7/14    Second Class   \n",
       "2       25330    IN-2014-CR127307-41929   10/17/14  10/18/14     First Class   \n",
       "3       13524   ES-2014-KM1637548-41667    1/28/14   1/30/14     First Class   \n",
       "4       47221   SG-2014-RH9495111-41948    11/5/14   11/6/14        Same Day   \n",
       "...       ...                       ...        ...       ...             ...   \n",
       "51285   29002   IN-2015-KE1642066-42174    6/19/15   6/19/15        Same Day   \n",
       "51286   34337  US-2014-ZD21925140-41765     5/6/14   5/10/14  Standard Class   \n",
       "51287   31315  CA-2012-ZD21925140-41147    8/26/12   8/31/12    Second Class   \n",
       "51288    9596   MX-2013-RB1979518-41322    2/17/13   2/21/13  Standard Class   \n",
       "51289    6147   MX-2013-MC1810093-41416    5/22/13   5/26/13    Second Class   \n",
       "\n",
       "        Customer.ID       Customer.Name      Segment  Postal.Code  \\\n",
       "0      AB-100151402       Aaron Bergman     Consumer      73120.0   \n",
       "1         JR-162107       Justin Ritter    Corporate          NaN   \n",
       "2         CR-127307        Craig Reiter     Consumer          NaN   \n",
       "3        KM-1637548    Katherine Murray  Home Office          NaN   \n",
       "4        RH-9495111         Rick Hansen     Consumer          NaN   \n",
       "...             ...                 ...          ...          ...   \n",
       "51285    KE-1642066     Katrina Edelman    Corporate          NaN   \n",
       "51286  ZD-219251408  Zuschuss Donatelli     Consumer      37421.0   \n",
       "51287  ZD-219251404  Zuschuss Donatelli     Consumer      94109.0   \n",
       "51288    RB-1979518          Ross Baird  Home Office          NaN   \n",
       "51289    MC-1810093       Mick Crebagga     Consumer          NaN   \n",
       "\n",
       "                City            State        Country         Region_x  \\\n",
       "0      Oklahoma City         Oklahoma  United States       Central US   \n",
       "1         Wollongong  New South Wales      Australia          Oceania   \n",
       "2           Brisbane       Queensland      Australia          Oceania   \n",
       "3             Berlin           Berlin        Germany   Western Europe   \n",
       "4              Dakar            Dakar        Senegal   Western Africa   \n",
       "...              ...              ...            ...              ...   \n",
       "51285           Kure        Hiroshima          Japan     Eastern Asia   \n",
       "51286    Chattanooga        Tennessee  United States      Southern US   \n",
       "51287  San Francisco       California  United States       Western US   \n",
       "51288       Valinhos        São Paulo         Brazil    South America   \n",
       "51289       Tipitapa          Managua      Nicaragua  Central America   \n",
       "\n",
       "             Market   Product.ID         Category Sub.Category  \\\n",
       "0              USCA  TEC-PH-5816       Technology       Phones   \n",
       "1      Asia Pacific  FUR-CH-5379        Furniture       Chairs   \n",
       "2      Asia Pacific  TEC-PH-5356       Technology       Phones   \n",
       "3            Europe  TEC-PH-5267       Technology       Phones   \n",
       "4            Africa  TEC-CO-6011       Technology      Copiers   \n",
       "...             ...          ...              ...          ...   \n",
       "51285  Asia Pacific  OFF-FA-3072  Office Supplies    Fasteners   \n",
       "51286          USCA  FUR-FU-4070        Furniture  Furnishings   \n",
       "51287          USCA  OFF-AR-5321  Office Supplies          Art   \n",
       "51288         LATAM  OFF-BI-2919  Office Supplies      Binders   \n",
       "51289         LATAM  OFF-PA-3990  Office Supplies        Paper   \n",
       "\n",
       "                                        Product.Name    Sales  Quantity  \\\n",
       "0                                   Samsung Convoy 3   221.98         2   \n",
       "1          Novimex Executive Leather Armchair, Black  3709.40         9   \n",
       "2                  Nokia Smart Phone, with Caller ID  5175.17         9   \n",
       "3                     Motorola Smart Phone, Cordless  2892.51         5   \n",
       "4                     Sharp Wireless Fax, High-Speed  2832.96         8   \n",
       "...                                              ...      ...       ...   \n",
       "51285                  Advantus Thumb Tacks, 12 Pack    65.10         5   \n",
       "51286  Eldon Image Series Desk Accessories, Burgundy    16.72         5   \n",
       "51287                                     Newell 341     8.56         2   \n",
       "51288                        Acco Index Tab, Economy    13.44         2   \n",
       "51289        Eaton Computer Printout Paper, 8.5 x 11    61.38         3   \n",
       "\n",
       "       Discount  Profit  Shipping.Cost Order.Priority  Returned  \n",
       "0           0.0   62.15         40.770           High         0  \n",
       "1           0.1 -288.77        923.630       Critical         0  \n",
       "2           0.1  919.97        915.490         Medium         0  \n",
       "3           0.1  -96.54        910.160         Medium         0  \n",
       "4           0.0  311.52        903.040       Critical         0  \n",
       "...         ...     ...            ...            ...       ...  \n",
       "51285       0.0    4.50          1.010         Medium         0  \n",
       "51286       0.2    3.34          1.930           High         0  \n",
       "51287       0.0    2.48          1.580           High         0  \n",
       "51288       0.0    2.40          1.003         Medium         0  \n",
       "51289       0.0    1.80          1.002           High         0  \n",
       "\n",
       "[51290 rows x 25 columns]"
      ]
     },
     "execution_count": 305,
     "metadata": {},
     "output_type": "execute_result"
    }
   ],
   "source": [
    "#ml_merged = ml_merged.iloc[: , :-1]\n",
    "ml_merged"
   ]
  },
  {
   "cell_type": "code",
   "execution_count": 306,
   "id": "03c67535",
   "metadata": {},
   "outputs": [
    {
     "data": {
      "text/html": [
       "<div>\n",
       "<style scoped>\n",
       "    .dataframe tbody tr th:only-of-type {\n",
       "        vertical-align: middle;\n",
       "    }\n",
       "\n",
       "    .dataframe tbody tr th {\n",
       "        vertical-align: top;\n",
       "    }\n",
       "\n",
       "    .dataframe thead th {\n",
       "        text-align: right;\n",
       "    }\n",
       "</style>\n",
       "<table border=\"1\" class=\"dataframe\">\n",
       "  <thead>\n",
       "    <tr style=\"text-align: right;\">\n",
       "      <th></th>\n",
       "      <th>Customer.ID</th>\n",
       "      <th>Order.ID</th>\n",
       "      <th>Product.ID</th>\n",
       "      <th>Quantity</th>\n",
       "      <th>Returned</th>\n",
       "    </tr>\n",
       "  </thead>\n",
       "  <tbody>\n",
       "    <tr>\n",
       "      <th>44163</th>\n",
       "      <td>BF-1117048</td>\n",
       "      <td>ES-2013-BF1117048-41527</td>\n",
       "      <td>OFF-BI-2919</td>\n",
       "      <td>1</td>\n",
       "      <td>1</td>\n",
       "    </tr>\n",
       "    <tr>\n",
       "      <th>28340</th>\n",
       "      <td>GD-1459092</td>\n",
       "      <td>ID-2015-GD1459092-42144</td>\n",
       "      <td>OFF-EN-3097</td>\n",
       "      <td>2</td>\n",
       "      <td>1</td>\n",
       "    </tr>\n",
       "    <tr>\n",
       "      <th>48940</th>\n",
       "      <td>CM-124458</td>\n",
       "      <td>ES-2013-CM124458-41375</td>\n",
       "      <td>OFF-LA-4686</td>\n",
       "      <td>5</td>\n",
       "      <td>1</td>\n",
       "    </tr>\n",
       "    <tr>\n",
       "      <th>42750</th>\n",
       "      <td>TS-2134055</td>\n",
       "      <td>US-2013-TS2134055-41356</td>\n",
       "      <td>OFF-AR-3484</td>\n",
       "      <td>2</td>\n",
       "      <td>1</td>\n",
       "    </tr>\n",
       "    <tr>\n",
       "      <th>11610</th>\n",
       "      <td>AT-1073545</td>\n",
       "      <td>ES-2015-AT1073545-42367</td>\n",
       "      <td>OFF-AR-3450</td>\n",
       "      <td>2</td>\n",
       "      <td>1</td>\n",
       "    </tr>\n",
       "    <tr>\n",
       "      <th>42748</th>\n",
       "      <td>GA-1472598</td>\n",
       "      <td>US-2013-GA1472598-41599</td>\n",
       "      <td>FUR-FU-4101</td>\n",
       "      <td>3</td>\n",
       "      <td>1</td>\n",
       "    </tr>\n",
       "    <tr>\n",
       "      <th>45839</th>\n",
       "      <td>LS-1697518</td>\n",
       "      <td>MX-2014-LS1697518-41666</td>\n",
       "      <td>OFF-LA-4542</td>\n",
       "      <td>2</td>\n",
       "      <td>1</td>\n",
       "    </tr>\n",
       "    <tr>\n",
       "      <th>40141</th>\n",
       "      <td>ES-1408018</td>\n",
       "      <td>MX-2013-ES1408018-41619</td>\n",
       "      <td>OFF-FA-3044</td>\n",
       "      <td>2</td>\n",
       "      <td>1</td>\n",
       "    </tr>\n",
       "    <tr>\n",
       "      <th>28354</th>\n",
       "      <td>AM-103607</td>\n",
       "      <td>IN-2014-AM103607-41864</td>\n",
       "      <td>OFF-ST-4029</td>\n",
       "      <td>2</td>\n",
       "      <td>1</td>\n",
       "    </tr>\n",
       "    <tr>\n",
       "      <th>23940</th>\n",
       "      <td>EH-1412555</td>\n",
       "      <td>MX-2013-EH1412555-41276</td>\n",
       "      <td>FUR-FU-3953</td>\n",
       "      <td>4</td>\n",
       "      <td>1</td>\n",
       "    </tr>\n",
       "  </tbody>\n",
       "</table>\n",
       "</div>"
      ],
      "text/plain": [
       "      Customer.ID                 Order.ID   Product.ID  Quantity  Returned\n",
       "44163  BF-1117048  ES-2013-BF1117048-41527  OFF-BI-2919         1         1\n",
       "28340  GD-1459092  ID-2015-GD1459092-42144  OFF-EN-3097         2         1\n",
       "48940   CM-124458   ES-2013-CM124458-41375  OFF-LA-4686         5         1\n",
       "42750  TS-2134055  US-2013-TS2134055-41356  OFF-AR-3484         2         1\n",
       "11610  AT-1073545  ES-2015-AT1073545-42367  OFF-AR-3450         2         1\n",
       "42748  GA-1472598  US-2013-GA1472598-41599  FUR-FU-4101         3         1\n",
       "45839  LS-1697518  MX-2014-LS1697518-41666  OFF-LA-4542         2         1\n",
       "40141  ES-1408018  MX-2013-ES1408018-41619  OFF-FA-3044         2         1\n",
       "28354   AM-103607   IN-2014-AM103607-41864  OFF-ST-4029         2         1\n",
       "23940  EH-1412555  MX-2013-EH1412555-41276  FUR-FU-3953         4         1"
      ]
     },
     "execution_count": 306,
     "metadata": {},
     "output_type": "execute_result"
    }
   ],
   "source": [
    "#check log of returned products\n",
    "cols = ['Customer.ID', 'Order.ID', 'Product.ID', 'Quantity', 'Returned']\n",
    "ml_merged[cols].sort_values('Returned', ascending = False).head(10)"
   ]
  },
  {
   "cell_type": "markdown",
   "id": "c6fa568a",
   "metadata": {},
   "source": [
    "##### Step 2:\n",
    "- Your manager believes that **how long it took the order to ship** would affect whether the customer would return it or not. \n",
    "- He wants you to generate a feature which can measure how long it takes the company to process each order.\n",
    "- ***Hint:*** Process.Time = Ship.Date - Order.Date"
   ]
  },
  {
   "cell_type": "code",
   "execution_count": 309,
   "id": "498678d4",
   "metadata": {},
   "outputs": [],
   "source": [
    "ml_merged['Order.Date'] = pd.DatetimeIndex(ml_merged['Order.Date'])\n",
    "ml_merged['Ship.Date'] = pd.DatetimeIndex(ml_merged['Ship.Date'])"
   ]
  },
  {
   "cell_type": "code",
   "execution_count": 311,
   "id": "01a67604",
   "metadata": {},
   "outputs": [
    {
     "data": {
      "text/plain": [
       "0       2 days\n",
       "1       2 days\n",
       "2       1 days\n",
       "3       2 days\n",
       "4       1 days\n",
       "         ...  \n",
       "51285   0 days\n",
       "51286   4 days\n",
       "51287   5 days\n",
       "51288   4 days\n",
       "51289   4 days\n",
       "Name: Fulfillment_duration_days, Length: 51290, dtype: timedelta64[ns]"
      ]
     },
     "execution_count": 311,
     "metadata": {},
     "output_type": "execute_result"
    }
   ],
   "source": [
    "ml_merged['Fulfillment_duration_days'] = ml_merged['Ship.Date'] - ml_merged['Order.Date']\n",
    "ml_merged['Fulfillment_duration_days']"
   ]
  },
  {
   "cell_type": "markdown",
   "id": "8353ff5e",
   "metadata": {},
   "source": [
    "##### Step 3:\n",
    "\n",
    "- If a product has been returned before, it may be returned again. \n",
    "- Let us generate a feature indictes how many times the product has been returned before.\n",
    "- If it never got returned, we just impute using 0.\n",
    "- ***Hint:*** Group by different Product.ID"
   ]
  },
  {
   "cell_type": "code",
   "execution_count": 313,
   "id": "910ee850",
   "metadata": {},
   "outputs": [
    {
     "data": {
      "text/html": [
       "<div>\n",
       "<style scoped>\n",
       "    .dataframe tbody tr th:only-of-type {\n",
       "        vertical-align: middle;\n",
       "    }\n",
       "\n",
       "    .dataframe tbody tr th {\n",
       "        vertical-align: top;\n",
       "    }\n",
       "\n",
       "    .dataframe thead th {\n",
       "        text-align: right;\n",
       "    }\n",
       "</style>\n",
       "<table border=\"1\" class=\"dataframe\">\n",
       "  <thead>\n",
       "    <tr style=\"text-align: right;\">\n",
       "      <th></th>\n",
       "      <th>Product.ID</th>\n",
       "      <th>return_count</th>\n",
       "    </tr>\n",
       "  </thead>\n",
       "  <tbody>\n",
       "    <tr>\n",
       "      <th>1907</th>\n",
       "      <td>OFF-FA-6129</td>\n",
       "      <td>227</td>\n",
       "    </tr>\n",
       "    <tr>\n",
       "      <th>1456</th>\n",
       "      <td>OFF-BI-3737</td>\n",
       "      <td>92</td>\n",
       "    </tr>\n",
       "    <tr>\n",
       "      <th>2549</th>\n",
       "      <td>OFF-ST-4057</td>\n",
       "      <td>90</td>\n",
       "    </tr>\n",
       "    <tr>\n",
       "      <th>2654</th>\n",
       "      <td>OFF-ST-5693</td>\n",
       "      <td>84</td>\n",
       "    </tr>\n",
       "    <tr>\n",
       "      <th>1551</th>\n",
       "      <td>OFF-BI-4828</td>\n",
       "      <td>83</td>\n",
       "    </tr>\n",
       "  </tbody>\n",
       "</table>\n",
       "</div>"
      ],
      "text/plain": [
       "       Product.ID  return_count\n",
       "1907  OFF-FA-6129           227\n",
       "1456  OFF-BI-3737            92\n",
       "2549  OFF-ST-4057            90\n",
       "2654  OFF-ST-5693            84\n",
       "1551  OFF-BI-4828            83"
      ]
     },
     "execution_count": 313,
     "metadata": {},
     "output_type": "execute_result"
    }
   ],
   "source": [
    "returned_products = ml_merged.groupby(['Product.ID']).agg({'Returned': ['count']}).reset_index()\n",
    "returned_products.columns = ['Product.ID', 'return_count']\n",
    "\n",
    "ml_merged = ml_merged.merge(returned_products, on='Product.ID', how='left')\n",
    "ml_merged\n",
    "\n",
    "returned_products.sort_values(by=['return_count'], ascending=False).head()"
   ]
  },
  {
   "cell_type": "markdown",
   "id": "6a0d301d",
   "metadata": {},
   "source": [
    "#### Problem 5: Fitting Models\n",
    "\n",
    "- You can use any binary classification method you have learned so far.\n",
    "- Use 80/20 training and test splits to build your model. \n",
    "- Double check the column types before you fit the model.\n",
    "- Only include useful features. i.e all the `ID`s should be excluded from your training set.\n",
    "- Note that there are only less than 5% of the orders have been returned, so you should consider using the [createDataPartition](https://www.rdocumentation.org/packages/caret/versions/6.0-80/topics/createDataPartition) function from `caret` package and [StratifiedKfold](http://scikit-learn.org/stable/modules/generated/sklearn.model_selection.StratifiedKFold.html#sklearn-model-selection-stratifiedkfold) from sklearn when running cross-validation.\n",
    "- Do forget to `set.seed()` before the spilt to make your result reproducible.\n",
    "- **Note:** We are not looking for the best tuned model in the lab so don't spend too much time on grid search. Focus on model evaluation and the business use case of each model.\n"
   ]
  },
  {
   "cell_type": "markdown",
   "id": "a557c1aa",
   "metadata": {},
   "source": [
    "#### step 1: create dummies"
   ]
  },
  {
   "cell_type": "code",
   "execution_count": 345,
   "id": "d974f359",
   "metadata": {},
   "outputs": [
    {
     "data": {
      "text/plain": [
       "0    49070\n",
       "1     2220\n",
       "Name: Returned, dtype: int64"
      ]
     },
     "execution_count": 345,
     "metadata": {},
     "output_type": "execute_result"
    }
   ],
   "source": [
    "ml_merged['Returned'].value_counts(normalize=False)"
   ]
  },
  {
   "cell_type": "code",
   "execution_count": 393,
   "id": "3242efa5",
   "metadata": {},
   "outputs": [
    {
     "data": {
      "text/plain": [
       "0    0.956717\n",
       "1    0.043283\n",
       "Name: Returned, dtype: float64"
      ]
     },
     "execution_count": 393,
     "metadata": {},
     "output_type": "execute_result"
    }
   ],
   "source": [
    "ml_merged['Returned'].value_counts(normalize=True)"
   ]
  },
  {
   "cell_type": "code",
   "execution_count": 353,
   "id": "90fa6ec4",
   "metadata": {},
   "outputs": [
    {
     "data": {
      "text/plain": [
       "0        0\n",
       "33775    0\n",
       "33776    0\n",
       "33777    0\n",
       "33778    0\n",
       "        ..\n",
       "26716    1\n",
       "34919    1\n",
       "34918    1\n",
       "49467    1\n",
       "13067    1\n",
       "Name: Returned, Length: 51290, dtype: int64"
      ]
     },
     "execution_count": 353,
     "metadata": {},
     "output_type": "execute_result"
    }
   ],
   "source": [
    "#ml_merged = ml_merged.iloc[: , :-1]\n",
    "ml_merged.Returned.sort_values()"
   ]
  },
  {
   "cell_type": "code",
   "execution_count": 354,
   "id": "8af710c1",
   "metadata": {},
   "outputs": [
    {
     "name": "stdout",
     "output_type": "stream",
     "text": [
      "['Category', 'City', 'Country', 'Customer.ID', 'Customer.Name', 'Discount', 'Fulfillment_duration_days', 'Market', 'Order.Date', 'Order.ID', 'Order.Priority', 'Postal.Code', 'Product.ID', 'Product.Name', 'Profit', 'Quantity', 'Region_x', 'Returned', 'Row.ID', 'Sales', 'Segment', 'Ship.Date', 'Ship.Mode', 'Shipping.Cost', 'State', 'Sub.Category']\n"
     ]
    }
   ],
   "source": [
    "print(sorted(ml_merged.columns))"
   ]
  },
  {
   "cell_type": "code",
   "execution_count": 356,
   "id": "d611aa61",
   "metadata": {},
   "outputs": [],
   "source": [
    "#Group features \n",
    "\n",
    "numeric_features = ['Discount', 'Process.Time', 'Product.ID.Return.Count', 'Product.ID.Return.Ratio', \n",
    "                    'Profit', 'Quantity', 'Sales', 'Shipping.Cost']\n",
    "\n",
    "categorical_features = ['Category', 'Market', 'Order.Priority', 'Segment', 'Ship.Mode']\n",
    "\n",
    "features = (numeric_features + categorical_features)"
   ]
  },
  {
   "cell_type": "code",
   "execution_count": 357,
   "id": "89ea825e",
   "metadata": {},
   "outputs": [],
   "source": [
    "# Use get_dummies for categorical variables & assign dependent variable\n",
    "X = pd.get_dummies(ml_merged[categorical_features], drop_first=True)\n",
    "y = ml_merged['Returned']"
   ]
  },
  {
   "cell_type": "code",
   "execution_count": 358,
   "id": "4c7e0197",
   "metadata": {},
   "outputs": [
    {
     "name": "stdout",
     "output_type": "stream",
     "text": [
      "(51290, 14)\n",
      "(51290,)\n"
     ]
    }
   ],
   "source": [
    "print(X.shape)\n",
    "print(y.shape)"
   ]
  },
  {
   "cell_type": "code",
   "execution_count": 360,
   "id": "530de790",
   "metadata": {},
   "outputs": [],
   "source": [
    "#X.head(3)"
   ]
  },
  {
   "cell_type": "markdown",
   "id": "57cf91c2",
   "metadata": {},
   "source": [
    "#### step 2: train/test split\n",
    " - simple split methodolgy, then evaluate\n",
    " - Kfold vs Stratified Kfold methodologies for cross validation\n",
    " - evaluate logistic regression models (next step)"
   ]
  },
  {
   "cell_type": "markdown",
   "id": "19335589",
   "metadata": {},
   "source": [
    "##### Simple split"
   ]
  },
  {
   "cell_type": "code",
   "execution_count": 373,
   "id": "45b75004",
   "metadata": {},
   "outputs": [],
   "source": [
    "X_train, X_test, y_train, y_test = train_test_split(X, y, test_size=0.2, random_state=0, stratify=y)\n"
   ]
  },
  {
   "cell_type": "code",
   "execution_count": 341,
   "id": "f32ef1fa",
   "metadata": {},
   "outputs": [
    {
     "name": "stdout",
     "output_type": "stream",
     "text": [
      "(41032, 14)\n",
      "(10258, 14)\n",
      "(41032,)\n",
      "(10258,)\n"
     ]
    }
   ],
   "source": [
    "print(X_train.shape)\n",
    "print(X_test.shape)\n",
    "print(y_train.shape)\n",
    "print(y_test.shape)"
   ]
  },
  {
   "cell_type": "markdown",
   "id": "46526422",
   "metadata": {},
   "source": [
    "##### Simple Logistic Regression"
   ]
  },
  {
   "cell_type": "code",
   "execution_count": 378,
   "id": "bd52d659",
   "metadata": {},
   "outputs": [],
   "source": [
    "#import stuff\n",
    "from sklearn.linear_model import LogisticRegression"
   ]
  },
  {
   "cell_type": "code",
   "execution_count": 400,
   "id": "41df7344",
   "metadata": {},
   "outputs": [],
   "source": [
    "LR = LogisticRegression(class_weight='balanced', max_iter = 10000)"
   ]
  },
  {
   "cell_type": "code",
   "execution_count": 399,
   "id": "3d4be134",
   "metadata": {},
   "outputs": [
    {
     "name": "stdout",
     "output_type": "stream",
     "text": [
      "0.956716708910119\n",
      "0.956716708910119\n"
     ]
    }
   ],
   "source": [
    "#logistic regression assessment \n",
    "logistic = LogisticRegression(C=1e8, solver='liblinear')\n",
    "\n",
    "logistic.fit(X_train, y_train)\n",
    "print(logistic.score(X_train, y_train))\n",
    "print(logistic.score(X_test, y_test))"
   ]
  },
  {
   "cell_type": "markdown",
   "id": "81c4165a",
   "metadata": {},
   "source": [
    "##### Cross validation with Stratifed K folds"
   ]
  },
  {
   "cell_type": "code",
   "execution_count": 391,
   "id": "15f30f86",
   "metadata": {},
   "outputs": [],
   "source": [
    "import numpy as np\n",
    "from sklearn.model_selection import StratifiedKFold\n",
    "from sklearn.model_selection import KFold\n",
    "from sklearn.model_selection import cross_val_score\n",
    "\n",
    "#X = features\n",
    "#y = ml_merged['Returned']\n",
    "\n",
    "#skf = StratifiedKFold(n_splits=5)\n",
    "#skf.get_n_splits(X, y)"
   ]
  },
  {
   "cell_type": "markdown",
   "id": "672c0054",
   "metadata": {},
   "source": [
    "###### Churn rate for SKfold vs Kfold + CV breakdown"
   ]
  },
  {
   "cell_type": "code",
   "execution_count": 382,
   "id": "a2026113",
   "metadata": {},
   "outputs": [
    {
     "data": {
      "text/plain": [
       "{0.0001: 0.9567167105376984,\n",
       " 0.01: 0.9567167105376984,\n",
       " 1: 0.9567167105376984,\n",
       " 100: 0.9567167105376984,\n",
       " 10000: 0.9567167105376984,\n",
       " 1000000: 0.9567167105376984,\n",
       " 100000000: 0.9567167105376984}"
      ]
     },
     "execution_count": 382,
     "metadata": {},
     "output_type": "execute_result"
    }
   ],
   "source": [
    "## running grid sscore for skfold\n",
    "\n",
    "skf = StratifiedKFold(n_splits=5, shuffle=True, random_state=0)\n",
    "\n",
    "result = {}\n",
    "for C in [0.0001, 0.01, 1, 100, 10000, 1000000, 100000000]:\n",
    "    logistic = LogisticRegression(C=C, solver='liblinear')\n",
    "    result[C] = cross_val_score(logistic, X_train, y_train, cv=skf).mean()\n",
    "    \n",
    "result"
   ]
  },
  {
   "cell_type": "code",
   "execution_count": 390,
   "id": "d1099bdd",
   "metadata": {},
   "outputs": [
    {
     "name": "stdout",
     "output_type": "stream",
     "text": [
      "The churn rate of the training set of this fold is 0.043576807779483806.\n",
      "The churn rate of the validation set of this fold is 0.042696300628746894.\n",
      "\n",
      "\n",
      "The churn rate of the training set of this fold is 0.04309998172180589.\n",
      "The churn rate of the validation set of this fold is 0.04364992322877824.\n",
      "\n",
      "\n",
      "The churn rate of the training set of this fold is 0.04317309449826357.\n",
      "The churn rate of the validation set of this fold is 0.04350369233018937.\n",
      "\n",
      "\n"
     ]
    }
   ],
   "source": [
    "#K Fold - note distribution is off\n",
    "kf = KFold(n_splits=3, shuffle=True, random_state=0)\n",
    "for training_idx, validation_idx in kf.split(X_train, y_train):\n",
    "    print(\"The churn rate of the training set of this fold is {}.\".format(y_train.iloc[training_idx].mean()))\n",
    "    print(\"The churn rate of the validation set of this fold is {}.\".format(y_train.iloc[validation_idx].mean()))\n",
    "    print(\"\\n\")"
   ]
  },
  {
   "cell_type": "code",
   "execution_count": 388,
   "id": "ec49da24",
   "metadata": {},
   "outputs": [
    {
     "name": "stdout",
     "output_type": "stream",
     "text": [
      "The churn rate of the training set of this fold is 0.043284345982306065.\n",
      "The churn rate of the validation set of this fold is 0.04328118145927767.\n",
      "\n",
      "\n",
      "The churn rate of the training set of this fold is 0.0432827636629501.\n",
      "The churn rate of the validation set of this fold is 0.043284345982306065.\n",
      "\n",
      "\n",
      "The churn rate of the training set of this fold is 0.0432827636629501.\n",
      "The churn rate of the validation set of this fold is 0.043284345982306065.\n",
      "\n",
      "\n"
     ]
    }
   ],
   "source": [
    "#Stratified K Fold\n",
    "skf = StratifiedKFold(n_splits=3, shuffle=True, random_state=0)\n",
    "for training_idx, validation_idx in skf.split(X_train, y_train):\n",
    "    print(\"The churn rate of the training set of this fold is {}.\".format(y_train.iloc[training_idx].mean()))\n",
    "    print(\"The churn rate of the validation set of this fold is {}.\".format(y_train.iloc[validation_idx].mean()))\n",
    "    print(\"\\n\")"
   ]
  },
  {
   "cell_type": "code",
   "execution_count": null,
   "id": "ea8c44aa",
   "metadata": {},
   "outputs": [],
   "source": [
    "lm = LogisticRegression(C=1, solver='liblinear')\n",
    "\n",
    "scores = []\n",
    "for training_idx, validation_idx in kfold.split(X_train, y_train):\n",
    "    lm.fit(X_train, y_train)\n",
    "    scores.append(\n",
    "        lm.score(X_train, y_train.iloc[validation_idx]))\n",
    "    \n",
    "print(\n",
    "    \"The 'cross-validation score' for the logistic regression with C={} is {}\".format(\n",
    "        lm.get_params()[\"C\"], np.mean(scores)))"
   ]
  },
  {
   "cell_type": "code",
   "execution_count": 377,
   "id": "d8fed071",
   "metadata": {},
   "outputs": [],
   "source": [
    "#import sutff\n",
    "from sklearn.metrics import confusion_matrix, roc_auc_score"
   ]
  },
  {
   "cell_type": "code",
   "execution_count": null,
   "id": "3b1098cc",
   "metadata": {},
   "outputs": [],
   "source": [
    "from sklearn.metrics import "
   ]
  },
  {
   "cell_type": "markdown",
   "id": "39630450",
   "metadata": {},
   "source": [
    "#### step 3: model evaluation"
   ]
  },
  {
   "cell_type": "markdown",
   "id": "e1824269",
   "metadata": {},
   "source": [
    "#### Confusion Matrix"
   ]
  },
  {
   "cell_type": "markdown",
   "id": "06d3c9c9",
   "metadata": {},
   "source": [
    "thoughts: this model is not good lol, we are overfitting with # of features, should probably get rid of features that cause this"
   ]
  },
  {
   "cell_type": "markdown",
   "id": "86890c31",
   "metadata": {},
   "source": [
    "#### Problem 6: Evaluating Models\n",
    "- What is the best metric to evaluate your model. Is accuracy good for this case?\n",
    "- Now you have multiple models, which one would you pick? \n",
    "- Can you get any clue from the confusion matrix? What is the meaning of precision and recall in this case? Which one do you care the most? How will your model help the manager make decisions?\n",
    "- **Note:** The last question is open-ended. Your answer could be completely different depending on your understanding of this business problem."
   ]
  },
  {
   "cell_type": "code",
   "execution_count": 372,
   "id": "8731cd15",
   "metadata": {},
   "outputs": [
    {
     "data": {
      "text/plain": [
       "array([[14721,     0],\n",
       "       [  666,     0]])"
      ]
     },
     "execution_count": 372,
     "metadata": {},
     "output_type": "execute_result"
    }
   ],
   "source": [
    "#create confusion matrix formula\n",
    "#why is this creating no TP? \n",
    "def get_confusion_matrix(bi_clf, X, y, thres=0.5):\n",
    "    \n",
    "    return confusion_matrix(\n",
    "        y,\n",
    "        bi_clf.predict_proba(X)[:,1] > thres\n",
    "    )\n",
    "\n",
    "get_confusion_matrix(logistic, X_test, y_test, .80)"
   ]
  },
  {
   "cell_type": "markdown",
   "id": "805be9b0",
   "metadata": {},
   "source": [
    "#### Problem 7: Feature Engineering Revisit\n",
    "- Is there anything wrong with the new feature we generated? How should we fix it?\n",
    "- ***Hint***: For the real test set, we do not know it will get returned or not"
   ]
  },
  {
   "cell_type": "code",
   "execution_count": null,
   "id": "f43c7133",
   "metadata": {},
   "outputs": [],
   "source": []
  }
 ],
 "metadata": {
  "kernelspec": {
   "display_name": "Python 3 (ipykernel)",
   "language": "python",
   "name": "python3"
  },
  "language_info": {
   "codemirror_mode": {
    "name": "ipython",
    "version": 3
   },
   "file_extension": ".py",
   "mimetype": "text/x-python",
   "name": "python",
   "nbconvert_exporter": "python",
   "pygments_lexer": "ipython3",
   "version": "3.8.12"
  }
 },
 "nbformat": 4,
 "nbformat_minor": 5
}
